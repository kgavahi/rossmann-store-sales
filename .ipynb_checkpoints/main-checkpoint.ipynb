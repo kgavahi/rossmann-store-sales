{
 "cells": [
  {
   "cell_type": "code",
   "execution_count": 1,
   "id": "94b02eb3",
   "metadata": {},
   "outputs": [
    {
     "name": "stderr",
     "output_type": "stream",
     "text": [
      "C:\\ProgramData\\Anaconda3\\lib\\site-packages\\scipy\\__init__.py:146: UserWarning: A NumPy version >=1.16.5 and <1.23.0 is required for this version of SciPy (detected version 1.24.3\n",
      "  warnings.warn(f\"A NumPy version >={np_minversion} and <{np_maxversion}\"\n"
     ]
    }
   ],
   "source": [
    "import numpy as np\n",
    "import pandas as pd\n",
    "import matplotlib.pyplot as plt\n",
    "import seaborn as sns\n",
    "from sklearn.model_selection import train_test_split\n",
    "from sklearn.ensemble import RandomForestRegressor\n",
    "from sklearn.metrics import mean_squared_error"
   ]
  },
  {
   "cell_type": "code",
   "execution_count": 2,
   "id": "fe91269c",
   "metadata": {},
   "outputs": [
    {
     "name": "stderr",
     "output_type": "stream",
     "text": [
      "C:\\Users\\kgavahi\\AppData\\Local\\Temp\\ipykernel_21732\\4141378031.py:1: DtypeWarning: Columns (7) have mixed types. Specify dtype option on import or set low_memory=False.\n",
      "  df = pd.read_csv('data/train.csv')\n"
     ]
    }
   ],
   "source": [
    "df = pd.read_csv('data/train.csv')\n",
    "store_df = pd.read_csv('data/store.csv')\n",
    "df_test = pd.read_csv('data/test.csv')\n",
    "df_submit = pd.read_csv('data/sample_submission.csv')"
   ]
  },
  {
   "cell_type": "code",
   "execution_count": 3,
   "id": "dbc60f33",
   "metadata": {},
   "outputs": [],
   "source": [
    "# Remove rows where 'open' column is zero\n",
    "df = df.loc[df['Open'] != 0]\n",
    "\n",
    "# Remove rows where 'Sales' column is zero\n",
    "df = df.loc[df['Sales'] != 0]"
   ]
  },
  {
   "cell_type": "code",
   "execution_count": 4,
   "id": "a4a744eb",
   "metadata": {},
   "outputs": [],
   "source": [
    "df['Date'] = pd.to_datetime(df['Date'])  # Convert the 'date' column to datetime format\n",
    "df_test['Date'] = pd.to_datetime(df_test['Date'])  # Convert the 'date' column to datetime format\n",
    "\n",
    "# Add a new column 'day_of_year' which represents the day of the year\n",
    "df['DayOfYear'] = df['Date'].dt.dayofyear\n",
    "df_test['DayOfYear'] = df_test['Date'].dt.dayofyear\n",
    "\n",
    "# Extract month and season\n",
    "df['Month'] = df['Date'].dt.month\n",
    "df_test['Month'] = df_test['Date'].dt.month"
   ]
  },
  {
   "cell_type": "code",
   "execution_count": null,
   "id": "d3830022",
   "metadata": {},
   "outputs": [],
   "source": []
  }
 ],
 "metadata": {
  "kernelspec": {
   "display_name": "Python 3 (ipykernel)",
   "language": "python",
   "name": "python3"
  },
  "language_info": {
   "codemirror_mode": {
    "name": "ipython",
    "version": 3
   },
   "file_extension": ".py",
   "mimetype": "text/x-python",
   "name": "python",
   "nbconvert_exporter": "python",
   "pygments_lexer": "ipython3",
   "version": "3.9.12"
  }
 },
 "nbformat": 4,
 "nbformat_minor": 5
}
